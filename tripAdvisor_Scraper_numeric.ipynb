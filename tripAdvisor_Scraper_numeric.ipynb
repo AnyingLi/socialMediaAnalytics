{
 "cells": [
  {
   "cell_type": "code",
   "execution_count": 1,
   "metadata": {
    "collapsed": true
   },
   "outputs": [],
   "source": [
    "from bs4 import BeautifulSoup\n",
    "import csv\n",
    "import pandas as pd\n",
    "import numpy as np\n",
    "import re\n",
    "from urllib import urlopen\n",
    "url = \"https://www.tripadvisor.com\"\n",
    "html = urlopen(url)\n",
    "bsObj = BeautifulSoup(html.read(),\"lxml\")"
   ]
  },
  {
   "cell_type": "code",
   "execution_count": 2,
   "metadata": {
    "collapsed": false
   },
   "outputs": [],
   "source": [
    "html = urlopen(url+\"/Hotels-g30196-Austin_Texas-Hotels.html\")\n",
    "bsObj = BeautifulSoup(html.read(),\"lxml\")\n",
    "num = 0\n",
    "urlList = []\n",
    "while num<=6:\n",
    "    divList = bsObj.findAll(\"div\",{\"class\":'prw_rup prw_meta_short_cell_listing'})\n",
    "    for i in divList:\n",
    "        urlList.append(i.find(\"a\")['href'])\n",
    "    num = num+1\n",
    "    html = urlopen(url+'/Hotels-g30196-oa'+str(num*30)+'-Austin_Texas-Hotels.html')\n",
    "    bsObj = BeautifulSoup(html.read(),\"lxml\")\n",
    "urlSet = set(urlList)"
   ]
  },
  {
   "cell_type": "code",
   "execution_count": 3,
   "metadata": {
    "collapsed": true
   },
   "outputs": [],
   "source": [
    "keys = ['Excellent','Very good','Average','Poor','Terrible','Families','Couples','Solo','Business',\n",
    "        'Friends','Mar-May','Jun-Aug','Sep-Nov','Dec-Feb','English']"
   ]
  },
  {
   "cell_type": "code",
   "execution_count": 4,
   "metadata": {
    "collapsed": false
   },
   "outputs": [],
   "source": [
    "dictionary = {}\n",
    "for i in keys:\n",
    "    dictionary[i] = []\n",
    "dictionary['hotels'] =[]\n",
    "dictionary['reveiwCount'] =[]\n",
    "\n",
    "for u in urlSet:\n",
    "    html = urlopen(url+u)\n",
    "    bsObj = BeautifulSoup(html.read(),\"lxml\")\n",
    "    try:\n",
    "        if eval(bsObj.find(\"a\",{'property':\"reviewCount\"})['content'].encode('utf-8'))>=50:\n",
    "            dictionary['hotels'].append(u.split(\"Reviews-\")[1].split(\"Austin_Texas\")[0])\n",
    "            temp_dict={}\n",
    "            dictionary['reveiwCount'].append(bsObj.find(\"a\",{'property':\"reviewCount\"})['content'].encode('utf-8'))\n",
    "            for i in bsObj.findAll(\"span\",{'class':\"toggle\"}):\n",
    "                temp  = i.findNext().findNext().get_text().encode('utf-8').strip().replace(\"\\n\\n\\n\\n\",\"(\").strip(\")\").split(\"(\")\n",
    "                if temp[0].strip() in keys:\n",
    "                    temp_dict[temp[0].strip()] = temp[1]\n",
    "            for i in keys:\n",
    "                try:\n",
    "                    dictionary[i].append(temp_dict[i])\n",
    "                except:\n",
    "                    dictionary[i].append(0)\n",
    "    except:\n",
    "        print u"
   ]
  },
  {
   "cell_type": "code",
   "execution_count": 17,
   "metadata": {
    "collapsed": false
   },
   "outputs": [
    {
     "data": {
      "text/plain": [
       "87"
      ]
     },
     "execution_count": 17,
     "metadata": {},
     "output_type": "execute_result"
    }
   ],
   "source": [
    "import pandas as pd\n",
    "\n",
    "df = pd.DataFrame.from_dict(dictionary)\n",
    "##df = df.set_index('hotels')\n",
    "#df = df.reindex(columns=keys.append('reviewCount'))\n",
    "#df = df.reset_index()\n",
    "df['hotels'] = df['hotels'].str.strip(\"-\")\n",
    "df.hotels.nunique()"
   ]
  },
  {
   "cell_type": "code",
   "execution_count": 6,
   "metadata": {
    "collapsed": true
   },
   "outputs": [],
   "source": [
    "df.to_pickle('taNumeric.pkl')"
   ]
  },
  {
   "cell_type": "code",
   "execution_count": 28,
   "metadata": {
    "collapsed": false
   },
   "outputs": [
    {
     "data": {
      "text/html": [
       "<div>\n",
       "<table border=\"1\" class=\"dataframe\">\n",
       "  <thead>\n",
       "    <tr style=\"text-align: right;\">\n",
       "      <th></th>\n",
       "      <th>hotels</th>\n",
       "      <th>Average</th>\n",
       "      <th>Business</th>\n",
       "      <th>Couples</th>\n",
       "      <th>Dec-Feb</th>\n",
       "      <th>English</th>\n",
       "      <th>Excellent</th>\n",
       "      <th>Families</th>\n",
       "      <th>Friends</th>\n",
       "      <th>Jun-Aug</th>\n",
       "      <th>Mar-May</th>\n",
       "      <th>Poor</th>\n",
       "      <th>Sep-Nov</th>\n",
       "      <th>Solo</th>\n",
       "      <th>Terrible</th>\n",
       "      <th>Very good</th>\n",
       "      <th>reveiwCount</th>\n",
       "    </tr>\n",
       "  </thead>\n",
       "  <tbody>\n",
       "    <tr>\n",
       "      <th>0</th>\n",
       "      <td>La_Quinta_Inn_Suites_Austin_Mopac_North</td>\n",
       "      <td>52</td>\n",
       "      <td>128</td>\n",
       "      <td>48</td>\n",
       "      <td>75</td>\n",
       "      <td>342</td>\n",
       "      <td>134</td>\n",
       "      <td>114</td>\n",
       "      <td>10</td>\n",
       "      <td>98</td>\n",
       "      <td>86</td>\n",
       "      <td>34</td>\n",
       "      <td>83</td>\n",
       "      <td>25</td>\n",
       "      <td>22</td>\n",
       "      <td>100</td>\n",
       "      <td>345</td>\n",
       "    </tr>\n",
       "    <tr>\n",
       "      <th>1</th>\n",
       "      <td>Sleep_Inn_Suites</td>\n",
       "      <td>12</td>\n",
       "      <td>29</td>\n",
       "      <td>43</td>\n",
       "      <td>31</td>\n",
       "      <td>168</td>\n",
       "      <td>105</td>\n",
       "      <td>55</td>\n",
       "      <td>14</td>\n",
       "      <td>53</td>\n",
       "      <td>42</td>\n",
       "      <td>1</td>\n",
       "      <td>42</td>\n",
       "      <td>9</td>\n",
       "      <td>2</td>\n",
       "      <td>48</td>\n",
       "      <td>174</td>\n",
       "    </tr>\n",
       "    <tr>\n",
       "      <th>2</th>\n",
       "      <td>La_Quinta_Inn_Austin_North</td>\n",
       "      <td>56</td>\n",
       "      <td>132</td>\n",
       "      <td>57</td>\n",
       "      <td>73</td>\n",
       "      <td>351</td>\n",
       "      <td>150</td>\n",
       "      <td>91</td>\n",
       "      <td>33</td>\n",
       "      <td>109</td>\n",
       "      <td>87</td>\n",
       "      <td>27</td>\n",
       "      <td>82</td>\n",
       "      <td>20</td>\n",
       "      <td>21</td>\n",
       "      <td>97</td>\n",
       "      <td>352</td>\n",
       "    </tr>\n",
       "    <tr>\n",
       "      <th>3</th>\n",
       "      <td>Hampton_Inn_Suites_Austin_at_The_University_Ca...</td>\n",
       "      <td>47</td>\n",
       "      <td>345</td>\n",
       "      <td>239</td>\n",
       "      <td>292</td>\n",
       "      <td>1,165</td>\n",
       "      <td>888</td>\n",
       "      <td>369</td>\n",
       "      <td>86</td>\n",
       "      <td>332</td>\n",
       "      <td>280</td>\n",
       "      <td>10</td>\n",
       "      <td>261</td>\n",
       "      <td>62</td>\n",
       "      <td>4</td>\n",
       "      <td>216</td>\n",
       "      <td>1181</td>\n",
       "    </tr>\n",
       "    <tr>\n",
       "      <th>4</th>\n",
       "      <td>Hotel_Saint_Cecilia</td>\n",
       "      <td>6</td>\n",
       "      <td>14</td>\n",
       "      <td>66</td>\n",
       "      <td>33</td>\n",
       "      <td>124</td>\n",
       "      <td>87</td>\n",
       "      <td>16</td>\n",
       "      <td>12</td>\n",
       "      <td>40</td>\n",
       "      <td>32</td>\n",
       "      <td>3</td>\n",
       "      <td>19</td>\n",
       "      <td>11</td>\n",
       "      <td>1</td>\n",
       "      <td>27</td>\n",
       "      <td>125</td>\n",
       "    </tr>\n",
       "  </tbody>\n",
       "</table>\n",
       "</div>"
      ],
      "text/plain": [
       "                                              hotels Average Business Couples  \\\n",
       "0            La_Quinta_Inn_Suites_Austin_Mopac_North      52      128      48   \n",
       "1                                   Sleep_Inn_Suites      12       29      43   \n",
       "2                         La_Quinta_Inn_Austin_North      56      132      57   \n",
       "3  Hampton_Inn_Suites_Austin_at_The_University_Ca...      47      345     239   \n",
       "4                                Hotel_Saint_Cecilia       6       14      66   \n",
       "\n",
       "  Dec-Feb English Excellent Families Friends Jun-Aug Mar-May Poor Sep-Nov  \\\n",
       "0      75     342       134      114      10      98      86   34      83   \n",
       "1      31     168       105       55      14      53      42    1      42   \n",
       "2      73     351       150       91      33     109      87   27      82   \n",
       "3     292   1,165       888      369      86     332     280   10     261   \n",
       "4      33     124        87       16      12      40      32    3      19   \n",
       "\n",
       "  Solo Terrible Very good reveiwCount  \n",
       "0   25       22       100         345  \n",
       "1    9        2        48         174  \n",
       "2   20       21        97         352  \n",
       "3   62        4       216        1181  \n",
       "4   11        1        27         125  "
      ]
     },
     "execution_count": 28,
     "metadata": {},
     "output_type": "execute_result"
    }
   ],
   "source": [
    "df.to_csv('tripAd.csv',encoding='utf-8')\n",
    "df.head()"
   ]
  }
 ],
 "metadata": {
  "kernelspec": {
   "display_name": "Python 2",
   "language": "python",
   "name": "python2"
  },
  "language_info": {
   "codemirror_mode": {
    "name": "ipython",
    "version": 2
   },
   "file_extension": ".py",
   "mimetype": "text/x-python",
   "name": "python",
   "nbconvert_exporter": "python",
   "pygments_lexer": "ipython2",
   "version": "2.7.11"
  }
 },
 "nbformat": 4,
 "nbformat_minor": 0
}
