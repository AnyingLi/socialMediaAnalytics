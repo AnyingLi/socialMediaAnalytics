{
 "cells": [
  {
   "cell_type": "code",
   "execution_count": 4,
   "metadata": {
    "collapsed": false
   },
   "outputs": [],
   "source": [
    "from bs4 import BeautifulSoup\n",
    "import csv\n",
    "import pandas as pd\n",
    "import numpy as np\n",
    "import re\n",
    "from urllib import urlopen\n",
    "html = urlopen(\"https://forums.edmunds.com/discussion/2864/general/x/entry-level-luxury-performance-sedans\")\n",
    "bsObj = BeautifulSoup(html.read(),\"lxml\")\n",
    "\n",
    "csvFile = open(\"myComments_V5.csv\",'wt')\n",
    "writer = csv.writer(csvFile)\n",
    "page = 0\n",
    "users = {}\n",
    "\n",
    "try:\n",
    "    while (bsObj.find(\"a\",{\"class\":\"Next\"})!=None):\n",
    "        comments = bsObj.findAll(\"div\",{\"class\":\"Comment\"})\n",
    "        for i in comments:\n",
    "            text = unicode(i.find(\"div\",{\"class\":\"Message\"}).get_text()).encode('utf-8').strip()\n",
    "            # Some reviews starting with \"xxx@:\" are replies to previous posts, \n",
    "            # so we need to exclude the original message to avoid double-count\n",
    "            if text.split(\"\\n\",1)[0].find('said:')>=1:\n",
    "                text = text.split(\"\\n\",1)[1:]\n",
    "            user = unicode(i.find(\"a\").attrs[\"title\"]).encode('utf-8')\n",
    "            # Filter posts below 120 characters\n",
    "            if len(text)>120:\n",
    "                if user not in users.keys():\n",
    "                    users[user] = 1\n",
    "                    date = unicode(i.find(\"time\").attrs[\"title\"]).encode('utf-8')\n",
    "                    writer.writerow([date,user,text])\n",
    "                else:\n",
    "                    # Several active users left more than 1000 reviews and may seriously bias our analysis\n",
    "                    if users[user] <=30:\n",
    "                        users[user] += 1\n",
    "                        date = unicode(i.find(\"time\").attrs[\"title\"]).encode('utf-8')\n",
    "                        writer.writerow([date,user,text])                    \n",
    "        nextHTML = bsObj.find(\"a\",{\"class\":\"Next\"})[\"href\"]\n",
    "        html = urlopen(nextHTML)\n",
    "        bsObj = BeautifulSoup(html.read(),\"lxml\")\n",
    "        page = page+1\n",
    "        \n",
    "finally:\n",
    "    csvFile.close()"
   ]
  }
 ],
 "metadata": {
  "kernelspec": {
   "display_name": "Python 2",
   "language": "python",
   "name": "python2"
  },
  "language_info": {
   "codemirror_mode": {
    "name": "ipython",
    "version": 2
   },
   "file_extension": ".py",
   "mimetype": "text/x-python",
   "name": "python",
   "nbconvert_exporter": "python",
   "pygments_lexer": "ipython2",
   "version": "2.7.11"
  }
 },
 "nbformat": 4,
 "nbformat_minor": 0
}
